{
 "cells": [
  {
   "cell_type": "markdown",
   "metadata": {},
   "source": [
    "# Docker homework"
   ]
  },
  {
   "cell_type": "markdown",
   "metadata": {},
   "source": [
    "In the demo you were shown how a Containerfile/Dockerfile looks like. You were also shown how to run containers and networks.\n",
    "\n",
    "You were also provided with an example server of NodeJS.\n",
    "\n",
    "Please provide the answers in this notebook"
   ]
  },
  {
   "cell_type": "markdown",
   "metadata": {},
   "source": [
    "## Warning\n",
    "Be sure to run it from the root so all files are avaiable to the notebook"
   ]
  },
  {
   "cell_type": "markdown",
   "metadata": {},
   "source": [
    "## Task 1\n",
    "Create a Dockerfile for the NodeJS server found in [basic-server](../basic-server).\n",
    "\n",
    "You must edit the [Dockerfile](../basic-server/Dockerfile) found in the basic-server folder.\n",
    "\n",
    "Remember to also bundle the dependecies listed in the package.json in the resulting image."
   ]
  },
  {
   "cell_type": "code",
   "execution_count": 1,
   "metadata": {},
   "outputs": [
    {
     "name": "stdout",
     "output_type": "stream",
     "text": [
      "# start from a base image\n",
      "FROM node:latest\n",
      "\n",
      "# run various command, ussualy installs\n",
      "RUN apt-get update\n",
      "RUN apt-get install -y python3 python3-notebook jupyter jupyter-core\n",
      "\n",
      "RUN pip3 install pyzmq bash_kernel\n",
      "RUN npm i -g ijavascript\n",
      "RUN ijsinstall\n",
      "RUN python3 -m bash_kernel.install\n",
      "\n",
      "RUN apt-get update\n",
      "\n",
      "RUN apt-get install -y \\\n",
      "    apt-transport-https \\\n",
      "    ca-certificates \\\n",
      "    curl \\\n",
      "    gnupg \\\n",
      "    lsb-release\n",
      "\n",
      "RUN curl -fsSL https://get.docker.com -o /get-docker.sh\n",
      "\n",
      "RUN sh /get-docker.sh\n",
      "\n",
      "# final comand to run\n",
      "CMD jupyter notebook /usr/project --ip=0.0.0.0 --allow-root --NotebookApp.token='' --NotebookApp.password=''\n",
      "\n",
      "\n"
     ]
    }
   ],
   "source": [
    "# as an example check this out\n",
    "cat ../badass-jupyter/Dockerfile"
   ]
  },
  {
   "cell_type": "code",
   "execution_count": 23,
   "metadata": {},
   "outputs": [
    {
     "name": "stdout",
     "output_type": "stream",
     "text": [
      "# FIXME\n",
      "# start from a base image\n",
      "FROM node:latest\n",
      "\n",
      "# Create app directory\n",
      "WORKDIR /usr/src/app\n",
      "\n",
      "# Install app dependencies\n",
      "# A wildcard is used to ensure both package.json AND package-lock.json are copied\n",
      "# where available (npm@5+)\n",
      "COPY package*.json ./\n",
      "\n",
      "RUN npm install\n",
      "\n",
      "# Bundle app source\n",
      "COPY . .\n",
      "\n",
      "EXPOSE 3000\n",
      "CMD [ \"node\", \"index.js\" ]\n",
      "\n"
     ]
    }
   ],
   "source": [
    "# Do not alter\n",
    "cat ../basic-server/Dockerfile"
   ]
  },
  {
   "cell_type": "code",
   "execution_count": 29,
   "metadata": {},
   "outputs": [
    {
     "name": "stdout",
     "output_type": "stream",
     "text": [
      "Dock  Dockerfile  README.md  index.js  package.json  setup.sql\n"
     ]
    }
   ],
   "source": [
    "# Add the bash commands for task 1 here\n",
    "# cd basic-server\n",
    "ls\n",
    "# docker build -t basic-server .\n",
    "# docker run -dp 3000:3000 basic-server\n",
    "echo \"# start from a base image\n",
    "FROM node:latest\n",
    "\n",
    "# Create app directory\n",
    "WORKDIR /usr/src/app\n",
    "\n",
    "# Install app dependencies\n",
    "# A wildcard is used to ensure both package.json AND package-lock.json are copied\n",
    "# where available (npm@5+)\n",
    "COPY package*.json ./\n",
    "\n",
    "RUN npm install\n",
    "\n",
    "# Bundle app source\n",
    "COPY . .\n",
    "\n",
    "EXPOSE 3000\n",
    "CMD [ \"node\", \"index.js\" ]\" > Dockerfile"
   ]
  },
  {
   "cell_type": "markdown",
   "metadata": {},
   "source": [
    "## Task 2\n",
    "You must now run the server with the database and prove it works.\n",
    "\n",
    "Open the 2 containers(server+db) in the same network. Remember that you are also running this Jupiter server in a container, so you must also add this one to the network.\n",
    "\n",
    "Remember that you must also setup the database with the [sql script](../basic-server/setup.sql). Check the [docker image documentation](https://hub.docker.com/_/mariadb) for the best way to do this.\n"
   ]
  },
  {
   "cell_type": "code",
   "execution_count": 1,
   "metadata": {},
   "outputs": [
    {
     "name": "stdout",
     "output_type": "stream",
     "text": [
      "'Docker homework.ipynb'  'JavaScript homework.ipynb'   README.md\n"
     ]
    }
   ],
   "source": [
    "# Add the bash commands for task 2 here\n",
    "ls\n",
    "# docker kill mariadb\n",
    "# docker container ls\n",
    "# docker network create some-network # Create the network\n",
    "# docker run -p 127.0.0.1:3306:3306 --network some-network  --rm --name mariadb -e MARIADB_ROOT_PASSWORD=pass -d mariadb:latest\n",
    "# docker run -it --network some-network --rm mariadb mysql -hmariadb -uroot -ppass\n",
    "\n",
    "# docker build -t basic-server .\n",
    "# docker run -dp 3000:3000 basic-server\n",
    "\n",
    "echo \"version: '3'\n",
    "services: \n",
    "    app:\n",
    "        image: node:alpine\n",
    "        volumes:\n",
    "          - ./:/app\n",
    "        working_dir: /app\n",
    "        environment:\n",
    "          NODE_ENV: development\n",
    "        ports:\n",
    "          - 3001:3001\n",
    "        command: npm run dev\n",
    "    mariadb:\n",
    "        image: mariadb:latest\n",
    "        restart: always\n",
    "        ports:\n",
    "          - \"3306:3306\"\n",
    "        expose:\n",
    "          - 3306\n",
    "        volumes:\n",
    "          - ./dbdata:/var/lib/mysql:rw\n",
    "          - ./setup.sql:/docker-entrypoint-initdb.d/setup.sql\n",
    "        environment:\n",
    "          MYSQL_ROOT_PASSWORD: 1234 \" > docker-compose.yaml\n",
    "\n"
   ]
  },
  {
   "cell_type": "code",
   "execution_count": 6,
   "metadata": {},
   "outputs": [
    {
     "name": "stdout",
     "output_type": "stream",
     "text": [
      "curl: (6) Could not resolve host: basic-server\n"
     ]
    },
    {
     "ename": "",
     "evalue": "6",
     "output_type": "error",
     "traceback": []
    }
   ],
   "source": [
    "# Do not alter, should return our admin gogu\n",
    "curl basic-server:3001"
   ]
  }
 ],
 "metadata": {
  "kernelspec": {
   "display_name": "Bash",
   "language": "bash",
   "name": "bash"
  },
  "language_info": {
   "codemirror_mode": "shell",
   "file_extension": ".sh",
   "mimetype": "text/x-sh",
   "name": "bash"
  }
 },
 "nbformat": 4,
 "nbformat_minor": 2
}